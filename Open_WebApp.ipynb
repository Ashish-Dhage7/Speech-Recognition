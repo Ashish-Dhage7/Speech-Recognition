{
 "cells": [
  {
   "cell_type": "code",
   "execution_count": 1,
   "metadata": {},
   "outputs": [],
   "source": [
    "# importing speech recognition package from google api \n",
    "import speech_recognition as sr \n",
    "import playsound # to play saved mp3 file \n",
    "from gtts import gTTS # google text to speech \n",
    "import os # to save/open files  \n",
    "from selenium import webdriver # to control browser operations "
   ]
  },
  {
   "cell_type": "code",
   "execution_count": 2,
   "metadata": {},
   "outputs": [],
   "source": [
    "num = 1\n",
    "def assistant_speaks(output): \n",
    "    global num \n",
    "\n",
    "    # num to rename every audio file \n",
    "    # with different name to remove ambiguity \n",
    "    num += 1\n",
    "    print(\"Assistant : \", output) \n",
    "\n",
    "    toSpeak = gTTS(text = output, lang ='en', slow = False) \n",
    "    # saving the audio file given by google text to speech \n",
    "    file = str(num)+\".mp3\"\n",
    "    toSpeak.save(file) \n",
    "    \n",
    "    # playsound package is used to play the same file. \n",
    "    playsound.playsound(file, True) \n",
    "    os.remove(file) "
   ]
  },
  {
   "cell_type": "code",
   "execution_count": 3,
   "metadata": {},
   "outputs": [],
   "source": [
    "def get_audio(): \n",
    "\n",
    "    rObject = sr.Recognizer() \n",
    "    audio = '' \n",
    "\n",
    "    with sr.Microphone() as source: \n",
    "        print(\"Speak...\") \n",
    "\n",
    "        # recording the audio using speech recognition \n",
    "        audio = rObject.listen(source, phrase_time_limit = 5) \n",
    "    print(\"Stop.\") # limit 5 secs \n",
    "\n",
    "    try: \n",
    "\n",
    "        text = rObject.recognize_google(audio, language ='en-US') \n",
    "        print(\"You : \", text) \n",
    "        return text \n",
    "\n",
    "    except: \n",
    "\n",
    "        assistant_speaks(\"Could not understand your audio, PLease try again !\") \n",
    "        return 0"
   ]
  },
  {
   "cell_type": "code",
   "execution_count": 4,
   "metadata": {},
   "outputs": [
    {
     "name": "stdout",
     "output_type": "stream",
     "text": [
      "Assistant :  What's your name, Buddy?\n",
      "Speak...\n",
      "Stop.\n",
      "You :  Ashish\n",
      "Assistant :  Hello, Ashish.\n",
      "Assistant :  What can i do for you?\n",
      "Speak...\n",
      "Stop.\n",
      "You :  open YouTube\n",
      "Assistant :  Opening youtube\n",
      "Assistant :  What can i do for you?\n",
      "Speak...\n",
      "Stop.\n",
      "You :  bye\n",
      "Assistant :  Ok bye, Ashish.\n"
     ]
    }
   ],
   "source": [
    "# Driver Code \n",
    "if __name__ == \"__main__\": \n",
    "    assistant_speaks(\"What's your name, Buddy?\") \n",
    "    name =''\n",
    "    name = get_audio() \n",
    "    assistant_speaks(\"Hello, \" + name + '.') \n",
    "    \n",
    "    while(1): \n",
    "        \n",
    "        assistant_speaks(\"What can i do for you?\") \n",
    "        text = get_audio().lower()\n",
    "        \n",
    "        if text == 'open youtube' : \n",
    "            assistant_speaks(\"Opening youtube\") \n",
    "            indx = text.split().index('youtube') \n",
    "            driver = webdriver.Chrome(\"C:\\Chromedriver\\chromedriver.exe\")\n",
    "            driver.get(\"http://www.youtube.com\")\n",
    "        \n",
    "        elif text == 'open Wikipedia' : \n",
    "            assistant_speaks(\"Opening wikipedia\") \n",
    "            indx = text.split().index('open youtube') \n",
    "            driver = webdriver.Chrome(\"C:\\Chromedriver\\chromedriver.exe\")\n",
    "            driver.get(\"http://www.Wikipedia.com\") \n",
    "\n",
    "        elif \"exit\" in str(text) or \"bye\" in str(text) or \"sleep\" in str(text): \n",
    "            assistant_speaks(\"Ok bye, \"+ name+'.') \n",
    "            break\n",
    "            "
   ]
  }
 ],
 "metadata": {
  "kernelspec": {
   "display_name": "Python 3",
   "language": "python",
   "name": "python3"
  },
  "language_info": {
   "codemirror_mode": {
    "name": "ipython",
    "version": 3
   },
   "file_extension": ".py",
   "mimetype": "text/x-python",
   "name": "python",
   "nbconvert_exporter": "python",
   "pygments_lexer": "ipython3",
   "version": "3.8.3"
  }
 },
 "nbformat": 4,
 "nbformat_minor": 4
}
